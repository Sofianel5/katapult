{
 "cells": [
  {
   "cell_type": "code",
   "execution_count": 9,
   "metadata": {},
   "outputs": [],
   "source": [
    "import tensorflow as tf \n"
   ]
  },
  {
   "cell_type": "code",
   "execution_count": 5,
   "metadata": {},
   "outputs": [],
   "source": [
    "def build_model():\n",
    "    model = tf.keras.Sequential([\n",
    "        tf.keras.layers.Flatten(),\n",
    "        tf.keras.layers.Dense(128, activation=\"relu\"),\n",
    "        tf.keras.layers.Dense(32, activation=\"relu\"),\n",
    "    ])\n",
    "    return model\n",
    "ids_model = build_model()\n",
    "reason_model = build_model()\n",
    "sentiment_general_model = build_model()\n",
    "sentiment_relative_model = build_model()"
   ]
  },
  {
   "cell_type": "code",
   "execution_count": 10,
   "metadata": {},
   "outputs": [],
   "source": [
    "ids_model.compile(optimizers=tf.keras.optimizers.Adam(learning_rate=0.1), loss=\"MSQ\",metrics=['accuracy'])\n",
    "reason_model.compile(optimizers=tf.keras.optimizers.SGD(learning_rate=0.1), loss=\"categorical_crossentropy\", metrics=['accuracy'])\n",
    "sentiment_general_model.compile(optimizers=tf.keras.optimizers.Adam(learning_rate=0.1), loss=\"MSQ\", metrics=['accuracy'])\n",
    "sentiment_relative_model.compile(tf.keras.optimizers.Adam(learning_rate=0.1), loss=\"MSQ\", metrics=['accuracy'])\n"
   ]
  },
  {
   "cell_type": "code",
   "execution_count": null,
   "metadata": {
    "scrolled": true
   },
   "outputs": [],
   "source": []
  }
 ],
 "metadata": {
  "kernelspec": {
   "display_name": "Python 3.7.3 64-bit ('base': conda)",
   "language": "python",
   "name": "python37364bitbaseconda2df03ddb6f2842eeba1020a2d7ea8e59"
  },
  "language_info": {
   "codemirror_mode": {
    "name": "ipython",
    "version": 3
   },
   "file_extension": ".py",
   "mimetype": "text/x-python",
   "name": "python",
   "nbconvert_exporter": "python",
   "pygments_lexer": "ipython3",
   "version": "3.7.3"
  }
 },
 "nbformat": 4,
 "nbformat_minor": 2
}
